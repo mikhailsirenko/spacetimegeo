{
 "cells": [
  {
   "cell_type": "markdown",
   "metadata": {
    "Collapsed": "false"
   },
   "source": [
    "# Step 4.3: Cluster individual traces"
   ]
  },
  {
   "cell_type": "markdown",
   "metadata": {
    "Collapsed": "false"
   },
   "source": [
    "__Step goals:__ Cluster generated individual traces with Gaussian Mixture Model.\n",
    "\n",
    "__Step overview:__\n",
    "1. Load the data and prepare the features;\n",
    "2. Perform GMM;\n",
    "3. Save the result."
   ]
  },
  {
   "cell_type": "code",
   "execution_count": 1,
   "metadata": {},
   "outputs": [],
   "source": [
    "import matplotlib.pyplot as plt\n",
    "import pandas as pd\n",
    "import geopandas as gpd\n",
    "import numpy as np\n",
    "import pickle\n",
    "import math\n",
    "from tqdm import tqdm\n",
    "import itertools\n",
    "from sklearn.mixture import GaussianMixture\n",
    "plt.style.use('science')"
   ]
  },
  {
   "cell_type": "markdown",
   "metadata": {},
   "source": [
    "## 1. Load the data"
   ]
  },
  {
   "cell_type": "code",
   "execution_count": 2,
   "metadata": {},
   "outputs": [
    {
     "name": "stdout",
     "output_type": "stream",
     "text": [
      "Clustering will be performed on : 4571040 points.\n"
     ]
    }
   ],
   "source": [
    "# Load the data\n",
    "data_type = 'entry'\n",
    "entry_individual = pd.read_csv(f\"../data/interim/counts/{data_type}_individual.csv\")\n",
    "print(f'Clustering will be performed on : {entry_individual.shape[0]} points.')\n",
    "X = entry_individual[\"time_stamp\"].values\n",
    "X = X.reshape(-1, 1)"
   ]
  },
  {
   "cell_type": "markdown",
   "metadata": {},
   "source": [
    "## 2. Clustering"
   ]
  },
  {
   "cell_type": "code",
   "execution_count": null,
   "metadata": {},
   "outputs": [
    {
     "name": "stdout",
     "output_type": "stream",
     "text": [
      "Initialization 0\n"
     ]
    }
   ],
   "source": [
    "%%time\n",
    "# Specify hyper-parameters\n",
    "n_components = 10\n",
    "random_state = 12345\n",
    "n_init = 50\n",
    "\n",
    "# Train the model\n",
    "model = GaussianMixture(n_components, covariance_type='full', random_state=random_state, n_init=n_init, verbose=2).fit(X)\n",
    "\n",
    "# Get the parameters\n",
    "labels = model.predict(X)\n",
    "weights = model.weights_\n",
    "probs = np.around(model.predict_proba(X), 3)\n",
    "means = model.means_\n",
    "covariances = model.covariances_"
   ]
  },
  {
   "cell_type": "markdown",
   "metadata": {},
   "source": [
    "## 3. Save the result"
   ]
  },
  {
   "cell_type": "code",
   "execution_count": null,
   "metadata": {},
   "outputs": [],
   "source": [
    "# Save the model\n",
    "filename = f'../models/individual_traces/gmm_{data_type}_{n_components}.sav'\n",
    "pickle.dump(model, open(filename, 'wb')) \n",
    "\n",
    "# Save parameters\n",
    "np.save(f\"../data/interim/gmm/individual_traces/labels_{n_components}_{data_type}.npy\", labels)\n",
    "np.save(f\"../data/interim/gmm/individual_traces/weights_{n_components}_{data_type}.npy\", weights)\n",
    "np.save(f\"../data/interim/gmm/individual_traces/probs_{n_components}_{data_type}.npy\", probs)\n",
    "np.save(f\"../data/interim/gmm/individual_traces/means_{n_components}_{data_type}.npy\", means)\n",
    "np.save(f\"../data/interim/gmm/individual_traces/covariances_{n_components}_{data_type}.npy\", covariances)"
   ]
  }
 ],
 "metadata": {
  "kernelspec": {
   "display_name": "spacetimegeo",
   "language": "python",
   "name": "spacetimegeo"
  },
  "language_info": {
   "codemirror_mode": {
    "name": "ipython",
    "version": 3
   },
   "file_extension": ".py",
   "mimetype": "text/x-python",
   "name": "python",
   "nbconvert_exporter": "python",
   "pygments_lexer": "ipython3",
   "version": "3.7.4"
  }
 },
 "nbformat": 4,
 "nbformat_minor": 4
}
