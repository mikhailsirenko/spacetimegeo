{
 "cells": [
  {
   "cell_type": "markdown",
   "metadata": {},
   "source": [
    "### Step 2.2: Data generation"
   ]
  },
  {
   "cell_type": "markdown",
   "metadata": {},
   "source": [
    "__Step goals:__ Generate individual traces from aggregated data.\n",
    "\n",
    "__Step overview:__\n",
    "1. Load the data;\n",
    "2. Sample individuals from the original number of entrances;\n",
    "3. Construct the data frame and save the result."
   ]
  },
  {
   "cell_type": "code",
   "execution_count": 1,
   "metadata": {},
   "outputs": [],
   "source": [
    "import geopandas as gpd\n",
    "import pandas as pd\n",
    "import numpy as np\n",
    "from tqdm import tqdm\n",
    "\n",
    "np.random.seed(12345) # fix random seed for reproducibility"
   ]
  },
  {
   "cell_type": "markdown",
   "metadata": {},
   "source": [
    "1. Load the data: entry or exit"
   ]
  },
  {
   "cell_type": "code",
   "execution_count": 2,
   "metadata": {},
   "outputs": [],
   "source": [
    "data_type = 'entry' \n",
    "gdf = gpd.read_file(f'../data/interim/{data_type}_station.json')\n",
    "\n",
    "# Save station names\n",
    "station_names = gdf['station'] \n",
    "\n",
    "# Select only the data\n",
    "data = gdf.loc[:,'0200-0215':'0145-0200'] \n",
    "\n",
    "# Sum the traffic over the day for each station\n",
    "N = np.sum(data.T).values\n",
    "\n",
    "# Scale data\n",
    "data = data.div(N, axis=0).values"
   ]
  },
  {
   "cell_type": "markdown",
   "metadata": {},
   "source": [
    "2. Generate individual traces"
   ]
  },
  {
   "cell_type": "code",
   "execution_count": 3,
   "metadata": {},
   "outputs": [
    {
     "name": "stderr",
     "output_type": "stream",
     "text": [
      "100%|████████████████████████████████████████████████████████████████████████████████| 264/264 [01:13<00:00,  3.61it/s]\n"
     ]
    }
   ],
   "source": [
    "col = []\n",
    "mat = []\n",
    "for i in tqdm(range(data.shape[0])):\n",
    "    rate = N[i]\n",
    "    jj = np.random.poisson(rate, 1)\n",
    "    j = jj[0]\n",
    "    if (j < 1):\n",
    "        j = 1\n",
    "    for j in range(j):\n",
    "        vec = np.random.multinomial(1, data[i,:], size=1)\n",
    "        col.append(i)\n",
    "        mat.append(vec[0])"
   ]
  },
  {
   "cell_type": "markdown",
   "metadata": {},
   "source": [
    "3. Construct resulting data frame"
   ]
  },
  {
   "cell_type": "code",
   "execution_count": 4,
   "metadata": {},
   "outputs": [],
   "source": [
    "# Resulting list is of 4571040 individuals\n",
    "X = np.array(mat)\n",
    "\n",
    "# Number of time stamps\n",
    "t = np.arange(0, 96)\n",
    "\n",
    "# Resulting matrix\n",
    "Z = np.matmul(X, t)\n",
    "\n",
    "# Resulting data frame\n",
    "result = pd.DataFrame()\n",
    "result[\"station_id\"] = col\n",
    "result[\"time_stamp\"] = Z\n",
    "\n",
    "# Merge the data to get station names\n",
    "result = pd.merge(result, station_names, left_on='station_id', right_on=station_names.index)"
   ]
  },
  {
   "cell_type": "code",
   "execution_count": 5,
   "metadata": {},
   "outputs": [],
   "source": [
    "# Save the data\n",
    "result.to_csv('../data/interim/entry_individual.csv', index=False)"
   ]
  }
 ],
 "metadata": {
  "kernelspec": {
   "display_name": "spacetimegeo",
   "language": "python",
   "name": "spacetimegeo"
  },
  "language_info": {
   "codemirror_mode": {
    "name": "ipython",
    "version": 3
   },
   "file_extension": ".py",
   "mimetype": "text/x-python",
   "name": "python",
   "nbconvert_exporter": "python",
   "pygments_lexer": "ipython3",
   "version": "3.7.4"
  }
 },
 "nbformat": 4,
 "nbformat_minor": 4
}
